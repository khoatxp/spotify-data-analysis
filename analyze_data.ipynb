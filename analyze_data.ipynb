{
 "cells": [
  {
   "cell_type": "code",
   "execution_count": 13,
   "metadata": {},
   "outputs": [],
   "source": [
    "import datetime\n",
    "import pandas as pd\n",
    "import numpy as np\n",
    "import matplotlib.pyplot as plt\n",
    "import seaborn as sns\n",
    "from sklearn.model_selection import train_test_split\n",
    "from yellowbrick.target import FeatureCorrelation\n",
    "from imblearn.under_sampling import RandomUnderSampler\n",
    "from imblearn.over_sampling import RandomOverSampler\n",
    "from sklearn.neighbors import KNeighborsClassifier, KNeighborsRegressor\n",
    "from sklearn.ensemble import RandomForestClassifier, RandomForestRegressor\n",
    "from sklearn.metrics import accuracy_score\n",
    "from sklearn.preprocessing import StandardScaler\n",
    "from sklearn.pipeline import make_pipeline"
   ]
  },
  {
   "cell_type": "code",
   "execution_count": 14,
   "metadata": {},
   "outputs": [
    {
     "name": "stdout",
     "output_type": "stream",
     "text": [
      "(62179, 19)\n",
      "(232725, 19)\n"
     ]
    }
   ],
   "source": [
    "df = pd.read_csv('data.csv')\n",
    "\n",
    "df_kaggle = pd.read_csv('data_kaggle.csv')\n",
    "df_kaggle.rename(columns={'artist_name':'artist', 'track_name':'name', 'track_id':'id'}, inplace=True)\n",
    "df_kaggle.drop_duplicates(inplace=True)\n",
    "\n",
    "print(df.shape)\n",
    "print(df_kaggle.shape)"
   ]
  },
  {
   "cell_type": "code",
   "execution_count": 15,
   "metadata": {},
   "outputs": [
    {
     "name": "stdout",
     "output_type": "stream",
     "text": [
      "19480\n",
      "(275424, 19)\n"
     ]
    }
   ],
   "source": [
    "df_ids = df['id'].values.tolist()\n",
    "df_kaggle_ids = df_kaggle['id'].values.tolist()\n",
    "ids_to_drop = set(df_ids).intersection(set(df_kaggle_ids))\n",
    "\n",
    "df.drop(df[df.id.isin(ids_to_drop)].index, inplace=True)\n",
    "\n",
    "df = df.append(df_kaggle)\n",
    "df.reset_index(drop=True, inplace=True)\n",
    "\n",
    "print(len(ids_to_drop))\n",
    "print(df.shape)"
   ]
  },
  {
   "cell_type": "code",
   "execution_count": 16,
   "metadata": {},
   "outputs": [],
   "source": [
    "df['duration_min'] = df['duration_ms']/60000\n",
    "df['duration_min'] = df['duration_min'].round(2)"
   ]
  },
  {
   "cell_type": "code",
   "execution_count": 17,
   "metadata": {},
   "outputs": [],
   "source": [
    "def validate(row):\n",
    "    try:\n",
    "        datetime.datetime.strptime(row.release_date, '%Y-%m-%d')\n",
    "        return True\n",
    "    except ValueError:\n",
    "        return False\n",
    "\n",
    "df = df[df.apply(lambda x: validate(x), axis = 1)]\n",
    "df['year'] = pd.DatetimeIndex(df['release_date']).year\n",
    "df = df.drop(labels=['duration_ms', 'release_date'], axis=1)\n",
    "df = df[df['year'] >= 1960]\n",
    "df = df[df['year'] < 2020]"
   ]
  },
  {
   "cell_type": "code",
   "execution_count": 18,
   "metadata": {},
   "outputs": [],
   "source": [
    "df['decade'] = None\n",
    "df.loc[(df['year'] >= 1960) & (df['year'] < 1970), 'decade'] = '1960s'\n",
    "df.loc[(df['year'] >= 1970) & (df['year'] < 1980), 'decade'] = '1970s'\n",
    "df.loc[(df['year'] >= 1980) & (df['year'] < 1990), 'decade'] = '1980s'\n",
    "df.loc[(df['year'] >= 1990) & (df['year'] < 2000), 'decade'] = '1990s'\n",
    "df.loc[(df['year'] >= 2000) & (df['year'] < 2010), 'decade'] = '2000s'\n",
    "df.loc[(df['year'] >= 2010) & (df['year'] < 2020), 'decade'] = '2010s'"
   ]
  },
  {
   "cell_type": "code",
   "execution_count": 19,
   "metadata": {},
   "outputs": [
    {
     "data": {
      "text/plain": [
       "2010s    175243\n",
       "2000s     46246\n",
       "1990s     17157\n",
       "1980s      5067\n",
       "1970s      4651\n",
       "1960s      2211\n",
       "Name: decade, dtype: int64"
      ]
     },
     "execution_count": 19,
     "metadata": {},
     "output_type": "execute_result"
    }
   ],
   "source": [
    "df.decade.value_counts()"
   ]
  },
  {
   "cell_type": "code",
   "execution_count": 20,
   "metadata": {},
   "outputs": [
    {
     "data": {
      "image/png": "[encoded data removed]",
      "text/plain": [
       "<Figure size 2160x720 with 1 Axes>"
      ]
     },
     "metadata": {},
     "output_type": "display_data"
    },
    {
     "data": {
      "text/plain": [
       "<AxesSubplot:title={'center':'Features correlation with dependent variable'}, xlabel='Pearson Correlation'>"
      ]
     },
     "execution_count": 20,
     "metadata": {},
     "output_type": "execute_result"
    }
   ],
   "source": [
    "feature_names = ['acousticness', 'danceability', 'energy', 'instrumentalness',\n",
    "       'liveness', 'loudness', 'speechiness', 'tempo', 'valence','duration_min','year']\n",
    "\n",
    "X, y = df[feature_names], df['popularity']\n",
    "\n",
    "features = np.array(feature_names)\n",
    "visualizer = FeatureCorrelation(labels=features)\n",
    "\n",
    "plt.rcParams['figure.figsize']=(30,10)\n",
    "visualizer.fit(X, y)\n",
    "visualizer.show()  "
   ]
  },
  {
   "cell_type": "code",
   "execution_count": 21,
   "metadata": {},
   "outputs": [],
   "source": [
    "# data = df\n",
    "# data['popularity'] = pd.cut(data.popularity, bins=4, labels=['low','medium','high','very high'], right=True)\n",
    "# y = data.popularity\n",
    "# y.value_counts()/y.count()"
   ]
  },
  {
   "cell_type": "code",
   "execution_count": 22,
   "metadata": {},
   "outputs": [
    {
     "data": {
      "text/plain": [
       "0.9738876963938975"
      ]
     },
     "execution_count": 22,
     "metadata": {},
     "output_type": "execute_result"
    }
   ],
   "source": [
    "ros = RandomOverSampler()\n",
    "X = df[feature_names]\n",
    "y = df['popularity']\n",
    "X_ros, y_ros = ros.fit_resample(X, y)\n",
    "\n",
    "X_train, X_test, y_train, y_test = train_test_split(X_ros, y_ros, random_state=42, test_size=0.2)\n",
    "\n",
    "knn = make_pipeline(StandardScaler(), KNeighborsRegressor(n_neighbors=1))\n",
    "\n",
    "knn.fit(X_train, y_train)\n",
    "knn.score(X_test, y_test)\n"
   ]
  },
  {
   "cell_type": "code",
   "execution_count": 23,
   "metadata": {},
   "outputs": [
    {
     "data": {
      "text/plain": [
       "0.6121406905197116"
      ]
     },
     "execution_count": 23,
     "metadata": {},
     "output_type": "execute_result"
    }
   ],
   "source": [
    "rf = RandomForestRegressor(n_estimators=10, max_depth=8, min_samples_leaf=8)\n",
    "rf.fit(X_train, y_train)\n",
    "rf.score(X_test, y_test)"
   ]
  },
  {
   "cell_type": "code",
   "execution_count": 24,
   "metadata": {},
   "outputs": [
    {
     "name": "stdout",
     "output_type": "stream",
     "text": [
      "(250575, 11)\n",
      "(250575,)\n"
     ]
    }
   ],
   "source": [
    "print(X.shape)\n",
    "print(y.shape)"
   ]
  }
 ],
 "metadata": {
  "interpreter": {
   "hash": "c695f1185af0b0cb45267059541db62e78e0f8b6aee207023a10bf91fdfcb1bd"
  },
  "kernelspec": {
   "display_name": "Python 3.9.7 64-bit",
   "language": "python",
   "name": "python3"
  },
  "language_info": {
   "codemirror_mode": {
    "name": "ipython",
    "version": 3
   },
   "file_extension": ".py",
   "mimetype": "text/x-python",
   "name": "python",
   "nbconvert_exporter": "python",
   "pygments_lexer": "ipython3",
   "version": "3.9.7"
  },
  "orig_nbformat": 4
 },
 "nbformat": 4,
 "nbformat_minor": 2
}
